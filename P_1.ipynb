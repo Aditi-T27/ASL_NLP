{
  "cells": [
    {
      "cell_type": "markdown",
      "metadata": {
        "id": "view-in-github",
        "colab_type": "text"
      },
      "source": [
        "<a href=\"https://colab.research.google.com/github/Aditi-T27/ASL_NLP/blob/main/P_1.ipynb\" target=\"_parent\"><img src=\"https://colab.research.google.com/assets/colab-badge.svg\" alt=\"Open In Colab\"/></a>"
      ]
    },
    {
      "cell_type": "code",
      "execution_count": null,
      "metadata": {
        "id": "hbhZXL8BJeHB"
      },
      "outputs": [],
      "source": [
        "import matplotlib.pyplot as plt\n",
        "import numpy as np\n",
        "import tensorflow as tf\n"
      ]
    },
    {
      "cell_type": "markdown",
      "source": [
        "This model is only for CNN , The code provided within the CNN folder comprises of the downloaded model trained from this notebook.\n",
        "The LSTM model is purely independent from the CNN model."
      ],
      "metadata": {
        "id": "Aiu7Eu4MdYpq"
      }
    },
    {
      "cell_type": "code",
      "execution_count": null,
      "metadata": {
        "id": "FMHkoFtU9ZQL",
        "colab": {
          "base_uri": "https://localhost:8080/"
        },
        "outputId": "87358d4c-89e2-4c5d-f9e8-82d300481699"
      },
      "outputs": [
        {
          "output_type": "stream",
          "name": "stdout",
          "text": [
            "Drive already mounted at /content/drive; to attempt to forcibly remount, call drive.mount(\"/content/drive\", force_remount=True).\n"
          ]
        }
      ],
      "source": [
        "from google.colab import drive\n",
        "drive.mount('/content/drive')\n"
      ]
    },
    {
      "cell_type": "code",
      "execution_count": null,
      "metadata": {
        "id": "EcwMm_Pl-Jq1"
      },
      "outputs": [],
      "source": [
        "from PIL import Image\n",
        "\n",
        "# Replace 'path/to/image.jpg' with the path to your image file\n",
        "image_path = '/content/drive/MyDrive/5.png'\n",
        "\n",
        "# Open the image\n",
        "image = Image.open(image_path)\n",
        "\n",
        "# Get the image size (width, height)\n",
        "width, height = image.size\n",
        "\n",
        "# Print the image size\n",
        "print(f'Image Size: {width}x{height} pixels')\n"
      ]
    },
    {
      "cell_type": "code",
      "execution_count": null,
      "metadata": {
        "id": "_KjUo6n6-WA1"
      },
      "outputs": [],
      "source": [
        "# Resize of single image\n",
        "\n",
        "from PIL import Image\n",
        "\n",
        "# Replace 'path/to/image.jpg' with the path to your image file\n",
        "image_path = '/content/drive/MyDrive/resized_Image/A/0.png'\n",
        "\n",
        "# Open the image\n",
        "image = Image.open(image_path)\n",
        "\n",
        "# Resize the image to 64x64 pixels\n",
        "resized_image = image.resize((64, 64))\n",
        "\n",
        "# Save the resized image (optional)\n",
        "resized_image.save('resized_image.jpg')\n",
        "\n",
        "# Show the resized image (optional)\n",
        "resized_image.show()\n",
        "\n",
        "\n",
        "# Get the image size (width, height)\n",
        "width, height = resized_image.size\n",
        "\n",
        "# Print the image size\n",
        "print(f'Image Size: {width}x{height} pixels')\n"
      ]
    },
    {
      "cell_type": "code",
      "execution_count": null,
      "metadata": {
        "id": "Ex5vqB7B8GU0"
      },
      "outputs": [],
      "source": [
        "import cv2\n",
        "import numpy as np\n",
        "\n",
        "# Step 1: Read the image\n",
        "  # Replace with your image path\n",
        "image = cv2.imread(resized_image, cv2.IMREAD_GRAYSCALE)  # Read image in grayscale\n",
        "\n",
        "# Step 2: Check if the image is loaded correctly\n",
        "if image is None:\n",
        "    print(\"Error: Image not loaded. Check the file path.\")\n",
        "else:\n",
        "    print(\"Image loaded successfully!\")\n",
        "\n",
        "# Step 3: Convert to NumPy array and print shape\n",
        "print(\"Shape of the image array:\", image.shape)  # (Height, Width)\n",
        "print(\"Image array:\")\n",
        "print(image)\n",
        "\n",
        "# Step 4: Flatten the image array (optional)\n",
        "flattened_array = image.flatten()  # Flattens 2D array to 1D\n",
        "print(\"Flattened array shape:\", flattened_array.shape)\n"
      ]
    },
    {
      "cell_type": "code",
      "execution_count": null,
      "metadata": {
        "id": "LW2IiEykAZdz"
      },
      "outputs": [],
      "source": [
        "\n",
        "# Resize images and store in folder\n",
        "import os\n",
        "import cv2\n",
        "\n",
        "# Path to the main folder containing subfolders (A, B, C, ..., Z)\n",
        "input_folder = '/content/drive/MyDrive/Image'  # Change this to the main folder path\n",
        "output_folder = '/content/drive/MyDrive/resized_Image'  # Change this to the folder where resized images will be saved\n",
        "\n",
        "# Create the output folder if it doesn't exist\n",
        "os.makedirs(output_folder, exist_ok=True)\n",
        "\n",
        "# Loop through each subfolder (A, B, C, ..., Z)\n",
        "for subfolder in os.listdir(input_folder):\n",
        "    subfolder_path = os.path.join(input_folder, subfolder)\n",
        "\n",
        "    # Check if it's a folder\n",
        "    if os.path.isdir(subfolder_path):\n",
        "        # Create a corresponding subfolder in the output directory\n",
        "        output_subfolder_path = os.path.join(output_folder, subfolder)\n",
        "        os.makedirs(output_subfolder_path, exist_ok=True)\n",
        "\n",
        "        # Loop through all images in the current subfolder\n",
        "        for filename in os.listdir(subfolder_path):\n",
        "            if filename.endswith(('.jpg', '.jpeg', '.png')):  # Process only image files\n",
        "                image_path = os.path.join(subfolder_path, filename)  # Full path to the image\n",
        "                image = cv2.imread(image_path)  # Read the image\n",
        "\n",
        "                # Check if the image is loaded correctly\n",
        "                if image is None:\n",
        "                    print(f\"Warning: Could not read {image_path}, skipping...\")\n",
        "                    continue\n",
        "\n",
        "                # Convert image to grayscale and resize it to 64x64\n",
        "                grayscale_image = cv2.cvtColor(image, cv2.COLOR_BGR2GRAY)  # Convert to grayscale\n",
        "                resized_image = cv2.resize(grayscale_image, (64, 64))  # Resize to 64x64\n",
        "\n",
        "                # Save the resized image to the output subfolder\n",
        "                output_path = os.path.join(output_subfolder_path, filename)\n",
        "                cv2.imwrite(output_path, resized_image)\n",
        "\n",
        "                print(f'Resized and saved {output_path}')\n",
        "\n",
        "print('All images have been resized and saved successfully!')\n"
      ]
    },
    {
      "cell_type": "code",
      "execution_count": null,
      "metadata": {
        "id": "f4nvvFIZFFHq",
        "colab": {
          "base_uri": "https://localhost:8080/"
        },
        "outputId": "abe78d3a-c05b-4d4d-8666-fd6501061ea6"
      },
      "outputs": [
        {
          "output_type": "stream",
          "name": "stdout",
          "text": [
            "Shape of X: (806, 64, 64)\n",
            "Shape of y: (806,)\n"
          ]
        }
      ],
      "source": [
        "import os\n",
        "import cv2\n",
        "import numpy as np\n",
        "\n",
        "input_folder = '/content/drive/MyDrive/resized_Image'  # Path to your output folder\n",
        "\n",
        "X = []  # To store image arrays\n",
        "y = []  # To store labels (subfolder names like A, B, C, etc.)\n",
        "\n",
        "for subfolder in os.listdir(input_folder):\n",
        "    subfolder_path = os.path.join(input_folder, subfolder)\n",
        "    if os.path.isdir(subfolder_path):\n",
        "        for filename in os.listdir(subfolder_path):\n",
        "            if filename.endswith(('.jpg', '.jpeg', '.png')):\n",
        "                image_path = os.path.join(subfolder_path, filename)\n",
        "                image = cv2.imread(image_path, cv2.IMREAD_GRAYSCALE)\n",
        "                image = image / 255.0  # Normalize the image (optional)\n",
        "                X.append(image)\n",
        "                y.append(subfolder)  # Label corresponds to the subfolder name\n",
        "\n",
        "X = np.array(X)  # Convert list to NumPy array\n",
        "y = np.array(y)  # Convert labels to NumPy array\n",
        "\n",
        "print(f\"Shape of X: {X.shape}\")  # Should be (num_samples, 64, 64)\n",
        "print(f\"Shape of y: {y.shape}\")  # Labels corresponding to each image\n"
      ]
    },
    {
      "cell_type": "code",
      "execution_count": null,
      "metadata": {
        "id": "7OJ1Nl7OJMP5",
        "colab": {
          "base_uri": "https://localhost:8080/"
        },
        "outputId": "86e5d562-7534-4f39-cfca-18d58aaa221a"
      },
      "outputs": [
        {
          "output_type": "stream",
          "name": "stdout",
          "text": [
            "(64, 64)\n"
          ]
        }
      ],
      "source": [
        "print(X[0].shape)"
      ]
    },
    {
      "cell_type": "code",
      "execution_count": null,
      "metadata": {
        "id": "8lUj3KtZJjER",
        "colab": {
          "base_uri": "https://localhost:8080/",
          "height": 452
        },
        "outputId": "064fd04f-3208-43da-faed-5a6c1a5228e9"
      },
      "outputs": [
        {
          "output_type": "display_data",
          "data": {
            "text/plain": [
              "<Figure size 640x480 with 1 Axes>"
            ],
            "image/png": "[encoded data removed]"
          },
          "metadata": {}
        }
      ],
      "source": [
        "# Visualize the first image in the training set\n",
        "plt.imshow(X[34], cmap='gray')  # Show the first image (index 0) in grayscale\n",
        "plt.title(f\"Label: {y[34]}\")  # Display the label for the image\n",
        "plt.show()\n"
      ]
    },
    {
      "cell_type": "code",
      "execution_count": null,
      "metadata": {
        "id": "dQxWQTCFLEax",
        "colab": {
          "base_uri": "https://localhost:8080/",
          "height": 483
        },
        "outputId": "f785c82d-5360-45be-b5c8-0e5053e99861"
      },
      "outputs": [
        {
          "output_type": "stream",
          "name": "stdout",
          "text": [
            "Shape of X (images): (806, 64, 64)\n",
            "Shape of y (labels): (806,)\n",
            "Encoded labels: [19 19 19 19 19 19 19 19 19 19]\n"
          ]
        },
        {
          "output_type": "display_data",
          "data": {
            "text/plain": [
              "<Figure size 640x480 with 1 Axes>"
            ],
            "image/png": "[encoded data removed]"
          },
          "metadata": {}
        }
      ],
      "source": [
        "import os\n",
        "import cv2\n",
        "import numpy as np\n",
        "import matplotlib.pyplot as plt\n",
        "\n",
        "# Function to process the images in the dataset\n",
        "def preprocess_images_and_labels(base_path, image_size=(64, 64)):\n",
        "    image_list = []  # To store image data\n",
        "    label_list = []  # To store labels\n",
        "\n",
        "    # Iterate through subfolders (a to z, or any other subfolder structure)\n",
        "    for folder_name in os.listdir(base_path):\n",
        "        folder_path = os.path.join(base_path, folder_name)\n",
        "\n",
        "        # Ensure we're dealing with a folder, not a file\n",
        "        if os.path.isdir(folder_path):\n",
        "            label = folder_name  # Use the folder name as the label\n",
        "\n",
        "            # Iterate through all image files in the folder\n",
        "            for image_name in os.listdir(folder_path):\n",
        "                image_path = os.path.join(folder_path, image_name)\n",
        "\n",
        "                # Read the image in grayscale\n",
        "                img = cv2.imread(image_path, cv2.IMREAD_GRAYSCALE)\n",
        "\n",
        "                # Resize the image to the specified size (e.g., 64x64)\n",
        "                img_resized = cv2.resize(img, image_size)\n",
        "\n",
        "                # Normalize the pixel values by dividing by 255\n",
        "                img_normalized = img_resized / 255.0\n",
        "\n",
        "                # Append the image and label to the respective lists\n",
        "                image_list.append(img_normalized)\n",
        "                label_list.append(label)\n",
        "\n",
        "    # Convert the lists to NumPy arrays\n",
        "    X_data = np.array(image_list)\n",
        "    y_label = np.array(label_list)\n",
        "\n",
        "    return X_data, y_label\n",
        "\n",
        "# Define the path to your dataset\n",
        "base_path = '/content/drive/MyDrive/resized_Image'  # Replace with the path to your dataset folder\n",
        "\n",
        "# Preprocess images and labels\n",
        "X_data, y_label = preprocess_images_and_labels(base_path)\n",
        "\n",
        "# Print the shapes of the resulting arrays\n",
        "print(f\"Shape of X (images): {X_data.shape}\")  # Should be (num_images, 64, 64)\n",
        "print(f\"Shape of y (labels): {y_label.shape}\")  # Should be (num_images,)\n",
        "\n",
        "# If needed, you can convert the labels into numerical format (e.g., using LabelEncoder or one-hot encoding)\n",
        "from sklearn.preprocessing import LabelEncoder\n",
        "label_encoder = LabelEncoder()\n",
        "y_encoded = label_encoder.fit_transform(y_label)  # Encode labels as integers\n",
        "print(f\"Encoded labels: {y_encoded[:10]}\")  # Display first 10 encoded labels\n",
        "\n",
        "# If you'd like to visualize the first image in the dataset:\n",
        "plt.imshow(X_data[0], cmap='gray')\n",
        "plt.title(f\"Label: {y_label[0]}\")\n",
        "plt.axis('off')\n",
        "plt.show()\n"
      ]
    },
    {
      "cell_type": "code",
      "execution_count": null,
      "metadata": {
        "id": "caD_obzeL5RN"
      },
      "outputs": [],
      "source": [
        "print(X_data)"
      ]
    },
    {
      "cell_type": "code",
      "execution_count": null,
      "metadata": {
        "id": "J8MzbDhbCDk0",
        "colab": {
          "base_uri": "https://localhost:8080/"
        },
        "outputId": "6ceaea6a-9965-4a61-ab3a-e05e361b945e"
      },
      "outputs": [
        {
          "output_type": "execute_result",
          "data": {
            "text/plain": [
              "(806, 64, 64)"
            ]
          },
          "metadata": {},
          "execution_count": 7
        }
      ],
      "source": [
        "X_data.shape"
      ]
    },
    {
      "cell_type": "code",
      "execution_count": null,
      "metadata": {
        "id": "doIlcG1a2XET",
        "colab": {
          "base_uri": "https://localhost:8080/"
        },
        "outputId": "5bac14e9-af09-4df3-d525-33c251d672cd"
      },
      "outputs": [
        {
          "output_type": "stream",
          "name": "stdout",
          "text": [
            "Training set shape: (644, 64, 64), (644,)\n",
            "Test set shape: (162, 64, 64), (162,)\n"
          ]
        }
      ],
      "source": [
        "from sklearn.model_selection import train_test_split\n",
        "\n",
        "X_train, X_test, y_train, y_test = train_test_split(X_data, y_encoded, test_size=0.2, random_state=42)\n",
        "\n",
        "print(f\"Training set shape: {X_train.shape}, {y_train.shape}\")\n",
        "print(f\"Test set shape: {X_test.shape}, {y_test.shape}\")\n"
      ]
    },
    {
      "cell_type": "code",
      "execution_count": null,
      "metadata": {
        "id": "GXN1iISK5sSN"
      },
      "outputs": [],
      "source": [
        "import tensorflow as tf\n",
        "from tensorflow.keras import Sequential\n",
        "from tensorflow.keras.layers import Conv2D, MaxPooling2D, Flatten, Dense"
      ]
    },
    {
      "cell_type": "code",
      "execution_count": null,
      "metadata": {
        "id": "_hVykoUw6v7o"
      },
      "outputs": [],
      "source": [
        "print(\"Encoded labels:\",y_encoded[100:300])\n"
      ]
    },
    {
      "cell_type": "code",
      "execution_count": null,
      "metadata": {
        "id": "gG4S8nIYChux"
      },
      "outputs": [],
      "source": [
        "\n"
      ]
    },
    {
      "cell_type": "code",
      "execution_count": null,
      "metadata": {
        "id": "ykwaJ-n4BzcO",
        "colab": {
          "base_uri": "https://localhost:8080/"
        },
        "outputId": "48f1858d-11ea-4961-a26c-7da14bdae98e"
      },
      "outputs": [
        {
          "output_type": "execute_result",
          "data": {
            "text/plain": [
              "(644, 64, 64, 1)"
            ]
          },
          "metadata": {},
          "execution_count": 12
        }
      ],
      "source": [
        "(X_train.reshape(X_train.shape[0], 64, 64, 1)).shape"
      ]
    },
    {
      "cell_type": "code",
      "execution_count": null,
      "metadata": {
        "id": "xnpA2QNb5pvH",
        "colab": {
          "base_uri": "https://localhost:8080/",
          "height": 736
        },
        "outputId": "760fefe7-1e48-4747-fb64-f1992de89c02"
      },
      "outputs": [
        {
          "output_type": "display_data",
          "data": {
            "text/plain": [
              "\u001b[1mModel: \"sequential_1\"\u001b[0m\n"
            ],
            "text/html": [
              "<pre style=\"white-space:pre;overflow-x:auto;line-height:normal;font-family:Menlo,'DejaVu Sans Mono',consolas,'Courier New',monospace\"><span style=\"font-weight: bold\">Model: \"sequential_1\"</span>\n",
              "</pre>\n"
            ]
          },
          "metadata": {}
        },
        {
          "output_type": "display_data",
          "data": {
            "text/plain": [
              "┏━━━━━━━━━━━━━━━━━━━━━━━━━━━━━━━━━━━━━━┳━━━━━━━━━━━━━━━━━━━━━━━━━━━━━┳━━━━━━━━━━━━━━━━━┓\n",
              "┃\u001b[1m \u001b[0m\u001b[1mLayer (type)                        \u001b[0m\u001b[1m \u001b[0m┃\u001b[1m \u001b[0m\u001b[1mOutput Shape               \u001b[0m\u001b[1m \u001b[0m┃\u001b[1m \u001b[0m\u001b[1m        Param #\u001b[0m\u001b[1m \u001b[0m┃\n",
              "┡━━━━━━━━━━━━━━━━━━━━━━━━━━━━━━━━━━━━━━╇━━━━━━━━━━━━━━━━━━━━━━━━━━━━━╇━━━━━━━━━━━━━━━━━┩\n",
              "│ conv2d_2 (\u001b[38;5;33mConv2D\u001b[0m)                    │ (\u001b[38;5;45mNone\u001b[0m, \u001b[38;5;34m62\u001b[0m, \u001b[38;5;34m62\u001b[0m, \u001b[38;5;34m32\u001b[0m)          │             \u001b[38;5;34m320\u001b[0m │\n",
              "├──────────────────────────────────────┼─────────────────────────────┼─────────────────┤\n",
              "│ max_pooling2d_2 (\u001b[38;5;33mMaxPooling2D\u001b[0m)       │ (\u001b[38;5;45mNone\u001b[0m, \u001b[38;5;34m31\u001b[0m, \u001b[38;5;34m31\u001b[0m, \u001b[38;5;34m32\u001b[0m)          │               \u001b[38;5;34m0\u001b[0m │\n",
              "├──────────────────────────────────────┼─────────────────────────────┼─────────────────┤\n",
              "│ conv2d_3 (\u001b[38;5;33mConv2D\u001b[0m)                    │ (\u001b[38;5;45mNone\u001b[0m, \u001b[38;5;34m29\u001b[0m, \u001b[38;5;34m29\u001b[0m, \u001b[38;5;34m64\u001b[0m)          │          \u001b[38;5;34m18,496\u001b[0m │\n",
              "├──────────────────────────────────────┼─────────────────────────────┼─────────────────┤\n",
              "│ max_pooling2d_3 (\u001b[38;5;33mMaxPooling2D\u001b[0m)       │ (\u001b[38;5;45mNone\u001b[0m, \u001b[38;5;34m14\u001b[0m, \u001b[38;5;34m14\u001b[0m, \u001b[38;5;34m64\u001b[0m)          │               \u001b[38;5;34m0\u001b[0m │\n",
              "├──────────────────────────────────────┼─────────────────────────────┼─────────────────┤\n",
              "│ flatten_1 (\u001b[38;5;33mFlatten\u001b[0m)                  │ (\u001b[38;5;45mNone\u001b[0m, \u001b[38;5;34m12544\u001b[0m)               │               \u001b[38;5;34m0\u001b[0m │\n",
              "├──────────────────────────────────────┼─────────────────────────────┼─────────────────┤\n",
              "│ dense_2 (\u001b[38;5;33mDense\u001b[0m)                      │ (\u001b[38;5;45mNone\u001b[0m, \u001b[38;5;34m128\u001b[0m)                 │       \u001b[38;5;34m1,605,760\u001b[0m │\n",
              "├──────────────────────────────────────┼─────────────────────────────┼─────────────────┤\n",
              "│ dense_3 (\u001b[38;5;33mDense\u001b[0m)                      │ (\u001b[38;5;45mNone\u001b[0m, \u001b[38;5;34m26\u001b[0m)                  │           \u001b[38;5;34m3,354\u001b[0m │\n",
              "└──────────────────────────────────────┴─────────────────────────────┴─────────────────┘\n"
            ],
            "text/html": [
              "<pre style=\"white-space:pre;overflow-x:auto;line-height:normal;font-family:Menlo,'DejaVu Sans Mono',consolas,'Courier New',monospace\">┏━━━━━━━━━━━━━━━━━━━━━━━━━━━━━━━━━━━━━━┳━━━━━━━━━━━━━━━━━━━━━━━━━━━━━┳━━━━━━━━━━━━━━━━━┓\n",
              "┃<span style=\"font-weight: bold\"> Layer (type)                         </span>┃<span style=\"font-weight: bold\"> Output Shape                </span>┃<span style=\"font-weight: bold\">         Param # </span>┃\n",
              "┡━━━━━━━━━━━━━━━━━━━━━━━━━━━━━━━━━━━━━━╇━━━━━━━━━━━━━━━━━━━━━━━━━━━━━╇━━━━━━━━━━━━━━━━━┩\n",
              "│ conv2d_2 (<span style=\"color: #0087ff; text-decoration-color: #0087ff\">Conv2D</span>)                    │ (<span style=\"color: #00d7ff; text-decoration-color: #00d7ff\">None</span>, <span style=\"color: #00af00; text-decoration-color: #00af00\">62</span>, <span style=\"color: #00af00; text-decoration-color: #00af00\">62</span>, <span style=\"color: #00af00; text-decoration-color: #00af00\">32</span>)          │             <span style=\"color: #00af00; text-decoration-color: #00af00\">320</span> │\n",
              "├──────────────────────────────────────┼─────────────────────────────┼─────────────────┤\n",
              "│ max_pooling2d_2 (<span style=\"color: #0087ff; text-decoration-color: #0087ff\">MaxPooling2D</span>)       │ (<span style=\"color: #00d7ff; text-decoration-color: #00d7ff\">None</span>, <span style=\"color: #00af00; text-decoration-color: #00af00\">31</span>, <span style=\"color: #00af00; text-decoration-color: #00af00\">31</span>, <span style=\"color: #00af00; text-decoration-color: #00af00\">32</span>)          │               <span style=\"color: #00af00; text-decoration-color: #00af00\">0</span> │\n",
              "├──────────────────────────────────────┼─────────────────────────────┼─────────────────┤\n",
              "│ conv2d_3 (<span style=\"color: #0087ff; text-decoration-color: #0087ff\">Conv2D</span>)                    │ (<span style=\"color: #00d7ff; text-decoration-color: #00d7ff\">None</span>, <span style=\"color: #00af00; text-decoration-color: #00af00\">29</span>, <span style=\"color: #00af00; text-decoration-color: #00af00\">29</span>, <span style=\"color: #00af00; text-decoration-color: #00af00\">64</span>)          │          <span style=\"color: #00af00; text-decoration-color: #00af00\">18,496</span> │\n",
              "├──────────────────────────────────────┼─────────────────────────────┼─────────────────┤\n",
              "│ max_pooling2d_3 (<span style=\"color: #0087ff; text-decoration-color: #0087ff\">MaxPooling2D</span>)       │ (<span style=\"color: #00d7ff; text-decoration-color: #00d7ff\">None</span>, <span style=\"color: #00af00; text-decoration-color: #00af00\">14</span>, <span style=\"color: #00af00; text-decoration-color: #00af00\">14</span>, <span style=\"color: #00af00; text-decoration-color: #00af00\">64</span>)          │               <span style=\"color: #00af00; text-decoration-color: #00af00\">0</span> │\n",
              "├──────────────────────────────────────┼─────────────────────────────┼─────────────────┤\n",
              "│ flatten_1 (<span style=\"color: #0087ff; text-decoration-color: #0087ff\">Flatten</span>)                  │ (<span style=\"color: #00d7ff; text-decoration-color: #00d7ff\">None</span>, <span style=\"color: #00af00; text-decoration-color: #00af00\">12544</span>)               │               <span style=\"color: #00af00; text-decoration-color: #00af00\">0</span> │\n",
              "├──────────────────────────────────────┼─────────────────────────────┼─────────────────┤\n",
              "│ dense_2 (<span style=\"color: #0087ff; text-decoration-color: #0087ff\">Dense</span>)                      │ (<span style=\"color: #00d7ff; text-decoration-color: #00d7ff\">None</span>, <span style=\"color: #00af00; text-decoration-color: #00af00\">128</span>)                 │       <span style=\"color: #00af00; text-decoration-color: #00af00\">1,605,760</span> │\n",
              "├──────────────────────────────────────┼─────────────────────────────┼─────────────────┤\n",
              "│ dense_3 (<span style=\"color: #0087ff; text-decoration-color: #0087ff\">Dense</span>)                      │ (<span style=\"color: #00d7ff; text-decoration-color: #00d7ff\">None</span>, <span style=\"color: #00af00; text-decoration-color: #00af00\">26</span>)                  │           <span style=\"color: #00af00; text-decoration-color: #00af00\">3,354</span> │\n",
              "└──────────────────────────────────────┴─────────────────────────────┴─────────────────┘\n",
              "</pre>\n"
            ]
          },
          "metadata": {}
        },
        {
          "output_type": "display_data",
          "data": {
            "text/plain": [
              "\u001b[1m Total params: \u001b[0m\u001b[38;5;34m1,627,930\u001b[0m (6.21 MB)\n"
            ],
            "text/html": [
              "<pre style=\"white-space:pre;overflow-x:auto;line-height:normal;font-family:Menlo,'DejaVu Sans Mono',consolas,'Courier New',monospace\"><span style=\"font-weight: bold\"> Total params: </span><span style=\"color: #00af00; text-decoration-color: #00af00\">1,627,930</span> (6.21 MB)\n",
              "</pre>\n"
            ]
          },
          "metadata": {}
        },
        {
          "output_type": "display_data",
          "data": {
            "text/plain": [
              "\u001b[1m Trainable params: \u001b[0m\u001b[38;5;34m1,627,930\u001b[0m (6.21 MB)\n"
            ],
            "text/html": [
              "<pre style=\"white-space:pre;overflow-x:auto;line-height:normal;font-family:Menlo,'DejaVu Sans Mono',consolas,'Courier New',monospace\"><span style=\"font-weight: bold\"> Trainable params: </span><span style=\"color: #00af00; text-decoration-color: #00af00\">1,627,930</span> (6.21 MB)\n",
              "</pre>\n"
            ]
          },
          "metadata": {}
        },
        {
          "output_type": "display_data",
          "data": {
            "text/plain": [
              "\u001b[1m Non-trainable params: \u001b[0m\u001b[38;5;34m0\u001b[0m (0.00 B)\n"
            ],
            "text/html": [
              "<pre style=\"white-space:pre;overflow-x:auto;line-height:normal;font-family:Menlo,'DejaVu Sans Mono',consolas,'Courier New',monospace\"><span style=\"font-weight: bold\"> Non-trainable params: </span><span style=\"color: #00af00; text-decoration-color: #00af00\">0</span> (0.00 B)\n",
              "</pre>\n"
            ]
          },
          "metadata": {}
        },
        {
          "output_type": "stream",
          "name": "stdout",
          "text": [
            "Epoch 1/10\n",
            "\u001b[1m17/17\u001b[0m \u001b[32m━━━━━━━━━━━━━━━━━━━━\u001b[0m\u001b[37m\u001b[0m \u001b[1m5s\u001b[0m 170ms/step - accuracy: 0.0673 - loss: 3.1087 - val_accuracy: 0.0000e+00 - val_loss: 5.6198\n",
            "Epoch 2/10\n",
            "\u001b[1m17/17\u001b[0m \u001b[32m━━━━━━━━━━━━━━━━━━━━\u001b[0m\u001b[37m\u001b[0m \u001b[1m3s\u001b[0m 156ms/step - accuracy: 0.0631 - loss: 2.9098 - val_accuracy: 0.0000e+00 - val_loss: 6.3401\n",
            "Epoch 3/10\n",
            "\u001b[1m17/17\u001b[0m \u001b[32m━━━━━━━━━━━━━━━━━━━━\u001b[0m\u001b[37m\u001b[0m \u001b[1m6s\u001b[0m 211ms/step - accuracy: 0.0529 - loss: 2.8759 - val_accuracy: 0.0000e+00 - val_loss: 7.7477\n",
            "Epoch 4/10\n",
            "\u001b[1m17/17\u001b[0m \u001b[32m━━━━━━━━━━━━━━━━━━━━\u001b[0m\u001b[37m\u001b[0m \u001b[1m5s\u001b[0m 172ms/step - accuracy: 0.0871 - loss: 2.8224 - val_accuracy: 0.0000e+00 - val_loss: 6.4019\n",
            "Epoch 5/10\n",
            "\u001b[1m17/17\u001b[0m \u001b[32m━━━━━━━━━━━━━━━━━━━━\u001b[0m\u001b[37m\u001b[0m \u001b[1m5s\u001b[0m 169ms/step - accuracy: 0.1227 - loss: 2.7940 - val_accuracy: 0.0000e+00 - val_loss: 8.5613\n",
            "Epoch 6/10\n",
            "\u001b[1m17/17\u001b[0m \u001b[32m━━━━━━━━━━━━━━━━━━━━\u001b[0m\u001b[37m\u001b[0m \u001b[1m7s\u001b[0m 259ms/step - accuracy: 0.1385 - loss: 2.7762 - val_accuracy: 0.0000e+00 - val_loss: 8.7190\n",
            "Epoch 7/10\n",
            "\u001b[1m17/17\u001b[0m \u001b[32m━━━━━━━━━━━━━━━━━━━━\u001b[0m\u001b[37m\u001b[0m \u001b[1m3s\u001b[0m 192ms/step - accuracy: 0.1513 - loss: 2.6282 - val_accuracy: 0.0000e+00 - val_loss: 7.4441\n",
            "Epoch 8/10\n",
            "\u001b[1m17/17\u001b[0m \u001b[32m━━━━━━━━━━━━━━━━━━━━\u001b[0m\u001b[37m\u001b[0m \u001b[1m3s\u001b[0m 169ms/step - accuracy: 0.2034 - loss: 2.5311 - val_accuracy: 0.0000e+00 - val_loss: 8.7291\n",
            "Epoch 9/10\n",
            "\u001b[1m17/17\u001b[0m \u001b[32m━━━━━━━━━━━━━━━━━━━━\u001b[0m\u001b[37m\u001b[0m \u001b[1m5s\u001b[0m 157ms/step - accuracy: 0.2673 - loss: 2.3400 - val_accuracy: 0.0000e+00 - val_loss: 7.5496\n",
            "Epoch 10/10\n",
            "\u001b[1m17/17\u001b[0m \u001b[32m━━━━━━━━━━━━━━━━━━━━\u001b[0m\u001b[37m\u001b[0m \u001b[1m6s\u001b[0m 204ms/step - accuracy: 0.3185 - loss: 2.2818 - val_accuracy: 0.0000e+00 - val_loss: 8.8015\n"
          ]
        },
        {
          "output_type": "execute_result",
          "data": {
            "text/plain": [
              "<keras.src.callbacks.history.History at 0x79c9b1b9fc40>"
            ]
          },
          "metadata": {},
          "execution_count": 13
        }
      ],
      "source": [
        "# Reshape X_data for CNN input\n",
        "X_cnn = X_train.reshape(X_train.shape[0], 64, 64, 1)\n",
        "\n",
        "# Define a simple CNN model\n",
        "model = Sequential([\n",
        "    Conv2D(32, (3, 3), activation='relu', input_shape=(64, 64, 1)),\n",
        "    MaxPooling2D((2, 2)),\n",
        "    Conv2D(64, (3, 3), activation='relu'),\n",
        "    MaxPooling2D((2, 2)),\n",
        "    Flatten(),\n",
        "    Dense(128, activation='relu'),\n",
        "    Dense(26, activation='softmax')  # Assuming 26 classes for A-Z\n",
        "])\n",
        "\n",
        "# Compile the model\n",
        "model.compile(optimizer='adam', loss='sparse_categorical_crossentropy', metrics=['accuracy'])\n",
        "\n",
        "# Summary of the model\n",
        "model.summary()\n",
        "\n",
        "# Train the model\n",
        "# X_cnn -> input images, y_labels -> corresponding labels (numerical form)\n",
        "model.fit(X_cnn, y_encoded, epochs=10, batch_size=32, validation_split=0.2)\n"
      ]
    },
    {
      "cell_type": "code",
      "execution_count": null,
      "metadata": {
        "id": "j9A9X1TR8xa1"
      },
      "outputs": [],
      "source": [
        "import numpy as np\n",
        "import matplotlib.pyplot as plt\n",
        "\n",
        "unique, counts = np.unique(y_label, return_counts=True)\n",
        "plt.bar(unique, counts)\n",
        "plt.title(\"Class Distribution in Training Set\")\n",
        "plt.show()\n"
      ]
    },
    {
      "cell_type": "code",
      "execution_count": null,
      "metadata": {
        "id": "miR44x1I97Ge"
      },
      "outputs": [],
      "source": [
        "from sklearn.metrics import confusion_matrix\n",
        "import seaborn as sns\n",
        "\n",
        "y_pred = model.predict(X_test)\n",
        "y_pred_classes = np.argmax(y_pred, axis=1)\n",
        "\n",
        "cm = confusion_matrix(y_test, y_pred_classes)\n",
        "sns.heatmap(cm, annot=True, fmt=\"d\", cmap=\"Blues\")\n"
      ]
    },
    {
      "cell_type": "code",
      "execution_count": null,
      "metadata": {
        "id": "Z1saVjuLBDLF"
      },
      "outputs": [],
      "source": [
        "# altering shape of cnn reshaping to match cnn input\n",
        "X_train_cnn = X_train.reshape(X_train.shape[0], 64, 64, 1)\n",
        "X_test_cnn=X_test.reshape(X_test.shape[0], 64, 64, 1)"
      ]
    },
    {
      "cell_type": "code",
      "execution_count": null,
      "metadata": {
        "id": "WHJwBlLDBOAG"
      },
      "outputs": [],
      "source": [
        "# altering shape of cnn reshaping to match cnn input\n",
        "X_train_cnn.shape\n",
        "X_test_cnn.shape"
      ]
    },
    {
      "cell_type": "code",
      "execution_count": null,
      "metadata": {
        "id": "hvByzLIkHzoJ"
      },
      "outputs": [],
      "source": [
        "import numpy as np\n",
        "from tensorflow.keras.models import Sequential\n",
        "from tensorflow.keras.layers import Conv2D, MaxPooling2D, Flatten, Dense, Dropout\n",
        "from tensorflow.keras.preprocessing.image import ImageDataGenerator\n",
        "from sklearn.metrics import confusion_matrix\n",
        "from tensorflow.keras.callbacks import EarlyStopping\n",
        "import seaborn as sns\n",
        "import matplotlib.pyplot as plt\n"
      ]
    },
    {
      "cell_type": "code",
      "execution_count": null,
      "metadata": {
        "id": "XN9WG2U4Anuv",
        "colab": {
          "base_uri": "https://localhost:8080/"
        },
        "outputId": "39a02d94-773c-4376-e19d-7d259a098bce"
      },
      "outputs": [
        {
          "output_type": "stream",
          "name": "stdout",
          "text": [
            "Epoch 1/80\n"
          ]
        },
        {
          "output_type": "stream",
          "name": "stderr",
          "text": [
            "/usr/local/lib/python3.10/dist-packages/keras/src/layers/convolutional/base_conv.py:107: UserWarning: Do not pass an `input_shape`/`input_dim` argument to a layer. When using Sequential models, prefer using an `Input(shape)` object as the first layer in the model instead.\n",
            "  super().__init__(activity_regularizer=activity_regularizer, **kwargs)\n",
            "/usr/local/lib/python3.10/dist-packages/keras/src/trainers/data_adapters/py_dataset_adapter.py:122: UserWarning: Your `PyDataset` class should call `super().__init__(**kwargs)` in its constructor. `**kwargs` can include `workers`, `use_multiprocessing`, `max_queue_size`. Do not pass these arguments to `fit()`, as they will be ignored.\n",
            "  self._warn_if_super_not_called()\n"
          ]
        },
        {
          "output_type": "stream",
          "name": "stdout",
          "text": [
            "\u001b[1m21/21\u001b[0m \u001b[32m━━━━━━━━━━━━━━━━━━━━\u001b[0m\u001b[37m\u001b[0m \u001b[1m8s\u001b[0m 293ms/step - accuracy: 0.0393 - loss: 3.2692 - val_accuracy: 0.0309 - val_loss: 3.2621\n",
            "Epoch 2/80\n",
            "\u001b[1m21/21\u001b[0m \u001b[32m━━━━━━━━━━━━━━━━━━━━\u001b[0m\u001b[37m\u001b[0m \u001b[1m8s\u001b[0m 200ms/step - accuracy: 0.0409 - loss: 3.2582 - val_accuracy: 0.0247 - val_loss: 3.2594\n",
            "Epoch 3/80\n",
            "\u001b[1m21/21\u001b[0m \u001b[32m━━━━━━━━━━━━━━━━━━━━\u001b[0m\u001b[37m\u001b[0m \u001b[1m6s\u001b[0m 274ms/step - accuracy: 0.0406 - loss: 3.2575 - val_accuracy: 0.0185 - val_loss: 3.2603\n",
            "Epoch 4/80\n",
            "\u001b[1m21/21\u001b[0m \u001b[32m━━━━━━━━━━━━━━━━━━━━\u001b[0m\u001b[37m\u001b[0m \u001b[1m9s\u001b[0m 200ms/step - accuracy: 0.0388 - loss: 3.2575 - val_accuracy: 0.0309 - val_loss: 3.2614\n",
            "Epoch 5/80\n",
            "\u001b[1m21/21\u001b[0m \u001b[32m━━━━━━━━━━━━━━━━━━━━\u001b[0m\u001b[37m\u001b[0m \u001b[1m6s\u001b[0m 291ms/step - accuracy: 0.0409 - loss: 3.2534 - val_accuracy: 0.0185 - val_loss: 3.2745\n",
            "Epoch 6/80\n",
            "\u001b[1m21/21\u001b[0m \u001b[32m━━━━━━━━━━━━━━━━━━━━\u001b[0m\u001b[37m\u001b[0m \u001b[1m8s\u001b[0m 200ms/step - accuracy: 0.0695 - loss: 3.2477 - val_accuracy: 0.0494 - val_loss: 3.2380\n",
            "Epoch 7/80\n",
            "\u001b[1m21/21\u001b[0m \u001b[32m━━━━━━━━━━━━━━━━━━━━\u001b[0m\u001b[37m\u001b[0m \u001b[1m6s\u001b[0m 270ms/step - accuracy: 0.0588 - loss: 3.2263 - val_accuracy: 0.0370 - val_loss: 3.1886\n",
            "Epoch 8/80\n",
            "\u001b[1m21/21\u001b[0m \u001b[32m━━━━━━━━━━━━━━━━━━━━\u001b[0m\u001b[37m\u001b[0m \u001b[1m9s\u001b[0m 200ms/step - accuracy: 0.0540 - loss: 3.1822 - val_accuracy: 0.1173 - val_loss: 3.0329\n",
            "Epoch 9/80\n",
            "\u001b[1m21/21\u001b[0m \u001b[32m━━━━━━━━━━━━━━━━━━━━\u001b[0m\u001b[37m\u001b[0m \u001b[1m6s\u001b[0m 279ms/step - accuracy: 0.0908 - loss: 3.1166 - val_accuracy: 0.0988 - val_loss: 2.8720\n",
            "Epoch 10/80\n",
            "\u001b[1m21/21\u001b[0m \u001b[32m━━━━━━━━━━━━━━━━━━━━\u001b[0m\u001b[37m\u001b[0m \u001b[1m9s\u001b[0m 203ms/step - accuracy: 0.0939 - loss: 3.0402 - val_accuracy: 0.1481 - val_loss: 2.7717\n",
            "Epoch 11/80\n",
            "\u001b[1m21/21\u001b[0m \u001b[32m━━━━━━━━━━━━━━━━━━━━\u001b[0m\u001b[37m\u001b[0m \u001b[1m6s\u001b[0m 273ms/step - accuracy: 0.1295 - loss: 2.9079 - val_accuracy: 0.1790 - val_loss: 2.5236\n",
            "Epoch 12/80\n",
            "\u001b[1m21/21\u001b[0m \u001b[32m━━━━━━━━━━━━━━━━━━━━\u001b[0m\u001b[37m\u001b[0m \u001b[1m6s\u001b[0m 251ms/step - accuracy: 0.1574 - loss: 2.7385 - val_accuracy: 0.1790 - val_loss: 2.3958\n",
            "Epoch 13/80\n",
            "\u001b[1m21/21\u001b[0m \u001b[32m━━━━━━━━━━━━━━━━━━━━\u001b[0m\u001b[37m\u001b[0m \u001b[1m10s\u001b[0m 270ms/step - accuracy: 0.1656 - loss: 2.6907 - val_accuracy: 0.2160 - val_loss: 2.1931\n",
            "Epoch 14/80\n",
            "\u001b[1m21/21\u001b[0m \u001b[32m━━━━━━━━━━━━━━━━━━━━\u001b[0m\u001b[37m\u001b[0m \u001b[1m9s\u001b[0m 199ms/step - accuracy: 0.1934 - loss: 2.5590 - val_accuracy: 0.2531 - val_loss: 2.0695\n",
            "Epoch 15/80\n",
            "\u001b[1m21/21\u001b[0m \u001b[32m━━━━━━━━━━━━━━━━━━━━\u001b[0m\u001b[37m\u001b[0m \u001b[1m6s\u001b[0m 273ms/step - accuracy: 0.2005 - loss: 2.4192 - val_accuracy: 0.2716 - val_loss: 1.8825\n",
            "Epoch 16/80\n",
            "\u001b[1m21/21\u001b[0m \u001b[32m━━━━━━━━━━━━━━━━━━━━\u001b[0m\u001b[37m\u001b[0m \u001b[1m5s\u001b[0m 246ms/step - accuracy: 0.2308 - loss: 2.3726 - val_accuracy: 0.3951 - val_loss: 1.9979\n",
            "Epoch 17/80\n",
            "\u001b[1m21/21\u001b[0m \u001b[32m━━━━━━━━━━━━━━━━━━━━\u001b[0m\u001b[37m\u001b[0m \u001b[1m4s\u001b[0m 200ms/step - accuracy: 0.2024 - loss: 2.3479 - val_accuracy: 0.3333 - val_loss: 1.7762\n",
            "Epoch 18/80\n",
            "\u001b[1m21/21\u001b[0m \u001b[32m━━━━━━━━━━━━━━━━━━━━\u001b[0m\u001b[37m\u001b[0m \u001b[1m5s\u001b[0m 257ms/step - accuracy: 0.2342 - loss: 2.3172 - val_accuracy: 0.3642 - val_loss: 1.8494\n",
            "Epoch 19/80\n",
            "\u001b[1m21/21\u001b[0m \u001b[32m━━━━━━━━━━━━━━━━━━━━\u001b[0m\u001b[37m\u001b[0m \u001b[1m9s\u001b[0m 203ms/step - accuracy: 0.2780 - loss: 2.1404 - val_accuracy: 0.4012 - val_loss: 1.7463\n",
            "Epoch 20/80\n",
            "\u001b[1m21/21\u001b[0m \u001b[32m━━━━━━━━━━━━━━━━━━━━\u001b[0m\u001b[37m\u001b[0m \u001b[1m6s\u001b[0m 277ms/step - accuracy: 0.2884 - loss: 2.1420 - val_accuracy: 0.4074 - val_loss: 1.7350\n",
            "Epoch 21/80\n",
            "\u001b[1m21/21\u001b[0m \u001b[32m━━━━━━━━━━━━━━━━━━━━\u001b[0m\u001b[37m\u001b[0m \u001b[1m5s\u001b[0m 246ms/step - accuracy: 0.2979 - loss: 2.0857 - val_accuracy: 0.5000 - val_loss: 1.5920\n",
            "Epoch 22/80\n",
            "\u001b[1m21/21\u001b[0m \u001b[32m━━━━━━━━━━━━━━━━━━━━\u001b[0m\u001b[37m\u001b[0m \u001b[1m11s\u001b[0m 292ms/step - accuracy: 0.2719 - loss: 2.0792 - val_accuracy: 0.6296 - val_loss: 1.4722\n",
            "Epoch 23/80\n",
            "\u001b[1m21/21\u001b[0m \u001b[32m━━━━━━━━━━━━━━━━━━━━\u001b[0m\u001b[37m\u001b[0m \u001b[1m10s\u001b[0m 283ms/step - accuracy: 0.2737 - loss: 2.1389 - val_accuracy: 0.5802 - val_loss: 1.5118\n",
            "Epoch 24/80\n",
            "\u001b[1m21/21\u001b[0m \u001b[32m━━━━━━━━━━━━━━━━━━━━\u001b[0m\u001b[37m\u001b[0m \u001b[1m9s\u001b[0m 203ms/step - accuracy: 0.2881 - loss: 2.0297 - val_accuracy: 0.6049 - val_loss: 1.4422\n",
            "Epoch 25/80\n",
            "\u001b[1m21/21\u001b[0m \u001b[32m━━━━━━━━━━━━━━━━━━━━\u001b[0m\u001b[37m\u001b[0m \u001b[1m4s\u001b[0m 205ms/step - accuracy: 0.3543 - loss: 1.9209 - val_accuracy: 0.6481 - val_loss: 1.3832\n",
            "Epoch 26/80\n",
            "\u001b[1m21/21\u001b[0m \u001b[32m━━━━━━━━━━━━━━━━━━━━\u001b[0m\u001b[37m\u001b[0m \u001b[1m7s\u001b[0m 331ms/step - accuracy: 0.3415 - loss: 1.9016 - val_accuracy: 0.5185 - val_loss: 1.4546\n",
            "Epoch 27/80\n",
            "\u001b[1m21/21\u001b[0m \u001b[32m━━━━━━━━━━━━━━━━━━━━\u001b[0m\u001b[37m\u001b[0m \u001b[1m8s\u001b[0m 201ms/step - accuracy: 0.3835 - loss: 1.8400 - val_accuracy: 0.6049 - val_loss: 1.3009\n",
            "Epoch 28/80\n",
            "\u001b[1m21/21\u001b[0m \u001b[32m━━━━━━━━━━━━━━━━━━━━\u001b[0m\u001b[37m\u001b[0m \u001b[1m6s\u001b[0m 282ms/step - accuracy: 0.3964 - loss: 1.7497 - val_accuracy: 0.7346 - val_loss: 1.1508\n",
            "Epoch 29/80\n",
            "\u001b[1m21/21\u001b[0m \u001b[32m━━━━━━━━━━━━━━━━━━━━\u001b[0m\u001b[37m\u001b[0m \u001b[1m9s\u001b[0m 203ms/step - accuracy: 0.3629 - loss: 1.7272 - val_accuracy: 0.7222 - val_loss: 1.0659\n",
            "Epoch 30/80\n",
            "\u001b[1m21/21\u001b[0m \u001b[32m━━━━━━━━━━━━━━━━━━━━\u001b[0m\u001b[37m\u001b[0m \u001b[1m7s\u001b[0m 308ms/step - accuracy: 0.3872 - loss: 1.7043 - val_accuracy: 0.5556 - val_loss: 1.3249\n",
            "Epoch 31/80\n",
            "\u001b[1m21/21\u001b[0m \u001b[32m━━━━━━━━━━━━━━━━━━━━\u001b[0m\u001b[37m\u001b[0m \u001b[1m5s\u001b[0m 204ms/step - accuracy: 0.4142 - loss: 1.6409 - val_accuracy: 0.6235 - val_loss: 1.1963\n",
            "Epoch 32/80\n",
            "\u001b[1m21/21\u001b[0m \u001b[32m━━━━━━━━━━━━━━━━━━━━\u001b[0m\u001b[37m\u001b[0m \u001b[1m5s\u001b[0m 215ms/step - accuracy: 0.3870 - loss: 1.7406 - val_accuracy: 0.6852 - val_loss: 1.0569\n",
            "Epoch 33/80\n",
            "\u001b[1m21/21\u001b[0m \u001b[32m━━━━━━━━━━━━━━━━━━━━\u001b[0m\u001b[37m\u001b[0m \u001b[1m7s\u001b[0m 318ms/step - accuracy: 0.4420 - loss: 1.6542 - val_accuracy: 0.8086 - val_loss: 0.9934\n",
            "Epoch 34/80\n",
            "\u001b[1m21/21\u001b[0m \u001b[32m━━━━━━━━━━━━━━━━━━━━\u001b[0m\u001b[37m\u001b[0m \u001b[1m8s\u001b[0m 202ms/step - accuracy: 0.4447 - loss: 1.6561 - val_accuracy: 0.8025 - val_loss: 0.8800\n",
            "Epoch 35/80\n",
            "\u001b[1m21/21\u001b[0m \u001b[32m━━━━━━━━━━━━━━━━━━━━\u001b[0m\u001b[37m\u001b[0m \u001b[1m8s\u001b[0m 331ms/step - accuracy: 0.4136 - loss: 1.6197 - val_accuracy: 0.7037 - val_loss: 0.9931\n",
            "Epoch 36/80\n",
            "\u001b[1m21/21\u001b[0m \u001b[32m━━━━━━━━━━━━━━━━━━━━\u001b[0m\u001b[37m\u001b[0m \u001b[1m4s\u001b[0m 206ms/step - accuracy: 0.4315 - loss: 1.5436 - val_accuracy: 0.7593 - val_loss: 0.9306\n",
            "Epoch 37/80\n",
            "\u001b[1m21/21\u001b[0m \u001b[32m━━━━━━━━━━━━━━━━━━━━\u001b[0m\u001b[37m\u001b[0m \u001b[1m4s\u001b[0m 205ms/step - accuracy: 0.4220 - loss: 1.5537 - val_accuracy: 0.7901 - val_loss: 0.8300\n",
            "Epoch 38/80\n",
            "\u001b[1m21/21\u001b[0m \u001b[32m━━━━━━━━━━━━━━━━━━━━\u001b[0m\u001b[37m\u001b[0m \u001b[1m7s\u001b[0m 331ms/step - accuracy: 0.4621 - loss: 1.4810 - val_accuracy: 0.8148 - val_loss: 0.7753\n",
            "Epoch 39/80\n",
            "\u001b[1m21/21\u001b[0m \u001b[32m━━━━━━━━━━━━━━━━━━━━\u001b[0m\u001b[37m\u001b[0m \u001b[1m8s\u001b[0m 205ms/step - accuracy: 0.4767 - loss: 1.5000 - val_accuracy: 0.6543 - val_loss: 1.0524\n",
            "Epoch 40/80\n",
            "\u001b[1m21/21\u001b[0m \u001b[32m━━━━━━━━━━━━━━━━━━━━\u001b[0m\u001b[37m\u001b[0m \u001b[1m7s\u001b[0m 308ms/step - accuracy: 0.4702 - loss: 1.5581 - val_accuracy: 0.8148 - val_loss: 0.8814\n",
            "Epoch 41/80\n",
            "\u001b[1m21/21\u001b[0m \u001b[32m━━━━━━━━━━━━━━━━━━━━\u001b[0m\u001b[37m\u001b[0m \u001b[1m10s\u001b[0m 291ms/step - accuracy: 0.5049 - loss: 1.4852 - val_accuracy: 0.8580 - val_loss: 0.7229\n",
            "Epoch 42/80\n",
            "\u001b[1m21/21\u001b[0m \u001b[32m━━━━━━━━━━━━━━━━━━━━\u001b[0m\u001b[37m\u001b[0m \u001b[1m13s\u001b[0m 398ms/step - accuracy: 0.5299 - loss: 1.3882 - val_accuracy: 0.7963 - val_loss: 0.7367\n",
            "Epoch 43/80\n",
            "\u001b[1m21/21\u001b[0m \u001b[32m━━━━━━━━━━━━━━━━━━━━\u001b[0m\u001b[37m\u001b[0m \u001b[1m10s\u001b[0m 417ms/step - accuracy: 0.5230 - loss: 1.4303 - val_accuracy: 0.8086 - val_loss: 0.8585\n",
            "Epoch 44/80\n",
            "\u001b[1m21/21\u001b[0m \u001b[32m━━━━━━━━━━━━━━━━━━━━\u001b[0m\u001b[37m\u001b[0m \u001b[1m6s\u001b[0m 306ms/step - accuracy: 0.5342 - loss: 1.3308 - val_accuracy: 0.8519 - val_loss: 0.6574\n",
            "Epoch 45/80\n",
            "\u001b[1m21/21\u001b[0m \u001b[32m━━━━━━━━━━━━━━━━━━━━\u001b[0m\u001b[37m\u001b[0m \u001b[1m10s\u001b[0m 278ms/step - accuracy: 0.5437 - loss: 1.2325 - val_accuracy: 0.8889 - val_loss: 0.6000\n",
            "Epoch 46/80\n",
            "\u001b[1m21/21\u001b[0m \u001b[32m━━━━━━━━━━━━━━━━━━━━\u001b[0m\u001b[37m\u001b[0m \u001b[1m4s\u001b[0m 203ms/step - accuracy: 0.5216 - loss: 1.2887 - val_accuracy: 0.8704 - val_loss: 0.6101\n",
            "Epoch 47/80\n",
            "\u001b[1m21/21\u001b[0m \u001b[32m━━━━━━━━━━━━━━━━━━━━\u001b[0m\u001b[37m\u001b[0m \u001b[1m6s\u001b[0m 255ms/step - accuracy: 0.5361 - loss: 1.2797 - val_accuracy: 0.8086 - val_loss: 0.6367\n",
            "Epoch 48/80\n",
            "\u001b[1m21/21\u001b[0m \u001b[32m━━━━━━━━━━━━━━━━━━━━\u001b[0m\u001b[37m\u001b[0m \u001b[1m6s\u001b[0m 251ms/step - accuracy: 0.6017 - loss: 1.2611 - val_accuracy: 0.8827 - val_loss: 0.6419\n",
            "Epoch 49/80\n",
            "\u001b[1m21/21\u001b[0m \u001b[32m━━━━━━━━━━━━━━━━━━━━\u001b[0m\u001b[37m\u001b[0m \u001b[1m5s\u001b[0m 211ms/step - accuracy: 0.6050 - loss: 1.1336 - val_accuracy: 0.8457 - val_loss: 0.5954\n",
            "Epoch 50/80\n",
            "\u001b[1m21/21\u001b[0m \u001b[32m━━━━━━━━━━━━━━━━━━━━\u001b[0m\u001b[37m\u001b[0m \u001b[1m7s\u001b[0m 280ms/step - accuracy: 0.5640 - loss: 1.1691 - val_accuracy: 0.8951 - val_loss: 0.4988\n",
            "Epoch 51/80\n",
            "\u001b[1m21/21\u001b[0m \u001b[32m━━━━━━━━━━━━━━━━━━━━\u001b[0m\u001b[37m\u001b[0m \u001b[1m5s\u001b[0m 243ms/step - accuracy: 0.5645 - loss: 1.2426 - val_accuracy: 0.9074 - val_loss: 0.5508\n",
            "Epoch 52/80\n",
            "\u001b[1m21/21\u001b[0m \u001b[32m━━━━━━━━━━━━━━━━━━━━\u001b[0m\u001b[37m\u001b[0m \u001b[1m5s\u001b[0m 225ms/step - accuracy: 0.5907 - loss: 1.1606 - val_accuracy: 0.8395 - val_loss: 0.5426\n",
            "Epoch 53/80\n",
            "\u001b[1m21/21\u001b[0m \u001b[32m━━━━━━━━━━━━━━━━━━━━\u001b[0m\u001b[37m\u001b[0m \u001b[1m7s\u001b[0m 309ms/step - accuracy: 0.6002 - loss: 1.1592 - val_accuracy: 0.8025 - val_loss: 0.6649\n",
            "Epoch 54/80\n",
            "\u001b[1m21/21\u001b[0m \u001b[32m━━━━━━━━━━━━━━━━━━━━\u001b[0m\u001b[37m\u001b[0m \u001b[1m5s\u001b[0m 206ms/step - accuracy: 0.6287 - loss: 1.1117 - val_accuracy: 0.8457 - val_loss: 0.5714\n",
            "Epoch 55/80\n",
            "\u001b[1m21/21\u001b[0m \u001b[32m━━━━━━━━━━━━━━━━━━━━\u001b[0m\u001b[37m\u001b[0m \u001b[1m4s\u001b[0m 205ms/step - accuracy: 0.6513 - loss: 1.0213 - val_accuracy: 0.8457 - val_loss: 0.5042\n"
          ]
        }
      ],
      "source": [
        "\n",
        "# ----------------------------------\n",
        "# 1. Data Augmentation\n",
        "# ----------------------------------\n",
        "datagen = ImageDataGenerator(\n",
        "    rotation_range=20,        # Randomly rotate images by up to 20 degrees\n",
        "    width_shift_range=0.2,    # Randomly shift images horizontally\n",
        "    height_shift_range=0.2,   # Randomly shift images vertically\n",
        "    zoom_range=0.2,           # Randomly zoom in on images\n",
        "    horizontal_flip=True      # Randomly flip images horizontally\n",
        ")\n",
        "\n",
        "datagen.fit(X_train_cnn)  # Apply augmentations on training data\n",
        "\n",
        "# ----------------------------------\n",
        "# 2. CNN Model Definition\n",
        "# ----------------------------------\n",
        "model = Sequential()\n",
        "\n",
        "# Convolutional Layer 1\n",
        "model.add(Conv2D(32, (3, 3), activation='relu', input_shape=(64, 64, 1)))\n",
        "model.add(MaxPooling2D(pool_size=(2, 2)))\n",
        "\n",
        "# Convolutional Layer 2\n",
        "model.add(Conv2D(64, (3, 3), activation='relu'))\n",
        "model.add(MaxPooling2D(pool_size=(2, 2)))\n",
        "\n",
        "# Convolutional Layer 3\n",
        "model.add(Conv2D(128, (3, 3), activation='relu'))\n",
        "model.add(MaxPooling2D(pool_size=(2, 2)))\n",
        "\n",
        "# Flatten the output\n",
        "model.add(Flatten())\n",
        "\n",
        "# Fully Connected Layer 1\n",
        "model.add(Dense(128, activation='relu'))\n",
        "model.add(Dropout(0.5))  # Dropout to avoid overfitting\n",
        "\n",
        "# Fully Connected Layer 2 (Output Layer)\n",
        "num_classes = len(np.unique(y_train))  # Number of unique classes\n",
        "model.add(Dense(num_classes, activation='softmax'))\n",
        "\n",
        "# Compile the model\n",
        "model.compile(optimizer='adam', loss='sparse_categorical_crossentropy', metrics=['accuracy'])\n",
        "\n",
        "# ----------------------------------\n",
        "# 3. Train the Model\n",
        "# ----------------------------------\n",
        "history = model.fit(\n",
        "    datagen.flow(X_train_cnn, y_train, batch_size=32),\n",
        "    epochs=80,\n",
        "    validation_data=(X_test_cnn, y_test),\n",
        "    callbacks=[EarlyStopping(monitor='val_loss', patience=5, restore_best_weights=True)]\n",
        ")\n",
        "\n"
      ]
    },
    {
      "cell_type": "code",
      "execution_count": null,
      "metadata": {
        "id": "_HV4aVrsHkJA",
        "colab": {
          "base_uri": "https://localhost:8080/",
          "height": 773
        },
        "outputId": "e5ce1443-ddfb-4faa-ebe9-67aa6fef5f92"
      },
      "outputs": [
        {
          "output_type": "stream",
          "name": "stdout",
          "text": [
            "\u001b[1m6/6\u001b[0m \u001b[32m━━━━━━━━━━━━━━━━━━━━\u001b[0m\u001b[37m\u001b[0m \u001b[1m1s\u001b[0m 78ms/step - accuracy: 0.8853 - loss: 0.5392\n",
            "Test Loss: 0.4988, Test Accuracy: 0.8951\n",
            "\u001b[1m6/6\u001b[0m \u001b[32m━━━━━━━━━━━━━━━━━━━━\u001b[0m\u001b[37m\u001b[0m \u001b[1m0s\u001b[0m 53ms/step\n"
          ]
        },
        {
          "output_type": "display_data",
          "data": {
            "text/plain": [
              "<Figure size 1000x800 with 2 Axes>"
            ],
            "image/png": "[encoded data removed]"
          },
          "metadata": {}
        }
      ],
      "source": [
        "\n",
        "# ----------------------------------\n",
        "# 4. Model Evaluation\n",
        "# ----------------------------------\n",
        "test_loss, test_accuracy = model.evaluate(X_test_cnn, y_test)\n",
        "print(f\"Test Loss: {test_loss:.4f}, Test Accuracy: {test_accuracy:.4f}\")\n",
        "\n",
        "# ----------------------------------\n",
        "# 5. Confusion Matrix\n",
        "# ----------------------------------\n",
        "y_pred = model.predict(X_test_cnn)\n",
        "y_pred_classes = np.argmax(y_pred, axis=1)\n",
        "\n",
        "# Create a confusion matrix\n",
        "cm = confusion_matrix(y_test, y_pred_classes)\n",
        "\n",
        "# Plot confusion matrix using Seaborn\n",
        "plt.figure(figsize=(10, 8))\n",
        "sns.heatmap(cm, annot=True, fmt='d', cmap='Blues')\n",
        "plt.xlabel('Predicted Labels')\n",
        "plt.ylabel('True Labels')\n",
        "plt.title('Confusion Matrix')\n",
        "plt.show()"
      ]
    },
    {
      "cell_type": "code",
      "execution_count": null,
      "metadata": {
        "id": "xLUCy-GUJyML"
      },
      "outputs": [],
      "source": [
        "import numpy as np\n",
        "import matplotlib.pyplot as plt\n",
        "\n",
        "# Select a random test sample (for example, test index 5)\n",
        "index = 100\n",
        "test_image = X_test_cnn[index]  # Select the image\n",
        "true_label = y_test[index]  # True label of the image\n",
        "\n",
        "# Reshape the image to match the input shape of the model (if needed)\n",
        "test_image = test_image.reshape(1, 64, 64, 1)  # Add batch dimension if needed\n",
        "\n",
        "# Predict the label using the model\n",
        "predicted_label = model.predict(test_image)\n",
        "\n",
        "# Get the predicted class label (use argmax to get the class index)\n",
        "predicted_class = np.argmax(predicted_label, axis=-1)\n",
        "\n",
        "# Print the result\n",
        "print(f\"True Label: {true_label}\")\n",
        "print(f\"Predicted Label: {predicted_class[0]}\")\n",
        "\n",
        "# Display the test image\n",
        "plt.imshow(X_test[index].reshape(64, 64), cmap=\"gray\")\n",
        "plt.title(f\"True Label: {true_label}, Predicted: {predicted_class[0]}\")\n",
        "plt.show()\n"
      ]
    },
    {
      "cell_type": "code",
      "execution_count": null,
      "metadata": {
        "id": "qEoE4VdaKr4s"
      },
      "outputs": [],
      "source": [
        "model.save(\"model.h5\")\n"
      ]
    },
    {
      "cell_type": "code",
      "execution_count": null,
      "metadata": {
        "id": "MC2-j_OkK3VU"
      },
      "outputs": [],
      "source": [
        "# Save the model in the native Keras format\n",
        "model.save('my_model.keras')\n"
      ]
    },
    {
      "cell_type": "code",
      "execution_count": null,
      "metadata": {
        "id": "YmkUytYJNd7U"
      },
      "outputs": [],
      "source": [
        "model.save('my_model.h5')\n"
      ]
    },
    {
      "cell_type": "code",
      "execution_count": null,
      "metadata": {
        "id": "ZTwxPP6JOnXr"
      },
      "outputs": [],
      "source": [
        "from google.colab import files\n",
        "uploaded = files.upload()\n"
      ]
    },
    {
      "cell_type": "code",
      "execution_count": null,
      "metadata": {
        "id": "N9DemJfFOosU"
      },
      "outputs": [],
      "source": [
        "from tensorflow.keras.preprocessing import image\n",
        "import numpy as np\n",
        "from tensorflow.keras.models import load_model\n",
        "import matplotlib.pyplot as plt\n",
        "\n",
        "# Load your trained model\n",
        "model = load_model('my_model.keras')  # Update the path if needed\n",
        "\n",
        "# Load the uploaded image\n",
        "img_path = next(iter(uploaded))  # Get the name of the uploaded file\n",
        "img = image.load_img(img_path, target_size=(64, 64), color_mode='grayscale')  # Adjust target_size as per your model input\n",
        "\n",
        "# Preprocess the image: Convert to numpy array, normalize it, and add batch dimension\n",
        "img_array = image.img_to_array(img)  # Convert image to numpy array\n",
        "img_array = img_array / 255.0  # Normalize the image\n",
        "img_array = np.expand_dims(img_array, axis=0)  # Add batch dimension (model expects batches)\n",
        "\n",
        "# Predict the class\n",
        "prediction = model.predict(img_array)\n",
        "\n",
        "# Output the prediction\n",
        "print(\"Prediction:\", prediction)\n",
        "\n",
        "plt.imshow(img, cmap='gray')  # Display the image in grayscale\n",
        "plt.show()\n",
        "\n",
        "predicted_class = np.argmax(prediction, axis=1)  # Get the class with the highest probability\n",
        "print(\"Predicted class:\", predicted_class)\n"
      ]
    },
    {
      "cell_type": "code",
      "execution_count": null,
      "metadata": {
        "id": "HG-15iXnfVUS"
      },
      "outputs": [],
      "source": [
        "import tensorflow as tf\n",
        "print(tf.__version__)\n"
      ]
    },
    {
      "cell_type": "code",
      "execution_count": null,
      "metadata": {
        "id": "-Ks93Q_Nwk1j"
      },
      "outputs": [],
      "source": [
        "import os\n",
        "import numpy as np\n",
        "from flask import Flask, request, render_template, redirect, url_for\n",
        "from werkzeug.utils import secure_filename\n",
        "from keras.models import load_model\n",
        "from keras.preprocessing.image import load_img, img_to_array\n",
        "\n",
        "# Initialize the Flask app\n",
        "app = Flask(__name__)\n",
        "\n",
        "# Set the folder for storing uploaded images\n",
        "UPLOAD_FOLDER = 'static/uploads'\n",
        "app.config['UPLOAD_FOLDER'] = UPLOAD_FOLDER\n",
        "\n",
        "# Load the trained CNN model\n",
        "model = load_model('my_model.keras')  # Ensure 'my_model.keras' is in the project directory\n",
        "\n",
        "# Route for the home page\n",
        "@app.route('/')\n",
        "def index():\n",
        "    return render_template('index.html')\n",
        "\n",
        "# Route for handling image uploads\n",
        "@app.route('/predict', methods=['POST'])\n",
        "def predict():\n",
        "    if 'file' not in request.files:\n",
        "        return redirect(request.url)\n",
        "\n",
        "    file = request.files['file']\n",
        "    if file.filename == '':\n",
        "        return redirect(request.url)\n",
        "\n",
        "    if file:\n",
        "        # Save the uploaded image to the uploads folder\n",
        "        filename = secure_filename(file.filename)\n",
        "        filepath = os.path.join(app.config['UPLOAD_FOLDER'], filename)\n",
        "        file.save(filepath)\n",
        "\n",
        "        # Load and preprocess the image\n",
        "        image_size = (64, 64)  # Update if your model input size is different\n",
        "        img = load_img(filepath, target_size=image_size, color_mode=\"grayscale\")  # Change 'grayscale' if your model requires it\n",
        "        img_array = img_to_array(img) / 255.0  # Normalize the image\n",
        "        img_array = np.expand_dims(img_array, axis=0)  # Expand dimensions to match the input shape (1, 64, 64, 1)\n",
        "\n",
        "        # Predict the class of the image using the trained model\n",
        "        prediction = model.predict(img_array)\n",
        "        predicted_class = np.argmax(prediction, axis=1)[0]  # Assuming the output is one-hot encoded\n",
        "\n",
        "        return render_template('index.html', prediction=predicted_class, image_path=filepath)\n",
        "    else:\n",
        "        return redirect(request.url)\n",
        "\n",
        "# Run the app\n",
        "if __name__ == '__main__':\n",
        "    app.run(debug=True)"
      ]
    },
    {
      "cell_type": "code",
      "source": [
        "from keras.models import load_model\n",
        "# Load the model file (ensure the path is correct)\n",
        "model = load_model('model.h5')\n",
        "\n",
        "# Check the model summary to see if it loaded properly\n",
        "model.summary()"
      ],
      "metadata": {
        "id": "barMyu2Lz6OT"
      },
      "execution_count": null,
      "outputs": []
    },
    {
      "cell_type": "code",
      "source": [
        "import tensorflow as tf\n",
        "print(tf.__version__)\n"
      ],
      "metadata": {
        "colab": {
          "base_uri": "https://localhost:8080/"
        },
        "id": "CsZ3J1yk_GlC",
        "outputId": "63c0379b-9abc-4687-b38f-c9fbca97499c"
      },
      "execution_count": null,
      "outputs": [
        {
          "output_type": "stream",
          "name": "stdout",
          "text": [
            "2.17.1\n"
          ]
        }
      ]
    }
  ],
  "metadata": {
    "colab": {
      "provenance": [],
      "mount_file_id": "1hvsBOZnmWjTnTU1JyuAh0dl0A2AcVnFq",
      "authorship_tag": "ABX9TyOfFmC6MHQy74VBSN+ksd/q",
      "include_colab_link": true
    },
    "kernelspec": {
      "display_name": "Python 3",
      "name": "python3"
    },
    "language_info": {
      "name": "python"
    }
  },
  "nbformat": 4,
  "nbformat_minor": 0
}